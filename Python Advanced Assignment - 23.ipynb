{
 "cells": [
  {
   "cell_type": "code",
   "execution_count": null,
   "id": "903b733c",
   "metadata": {},
   "outputs": [],
   "source": [
    "Question 1"
   ]
  },
  {
   "cell_type": "code",
   "execution_count": null,
   "id": "f7aacbd9",
   "metadata": {},
   "outputs": [],
   "source": [
    "Matplotlib provides a convenient method called subplots for increasing the comparison between different figures on the same\n",
    "graph. Subplots mean a group of smaller axes (where each axis is a plot) that can exist together within a single figure."
   ]
  },
  {
   "cell_type": "code",
   "execution_count": null,
   "id": "79cdbf1d",
   "metadata": {},
   "outputs": [],
   "source": [
    "Question 2"
   ]
  },
  {
   "cell_type": "code",
   "execution_count": null,
   "id": "3e25efd4",
   "metadata": {},
   "outputs": [],
   "source": [
    "Compound interest makes a sum of money grow at a faster rate than simple interest,because in addition to earning returns on\n",
    "the money you invest, you also earn returns on those returns at the end of every compounding period, which could be daily,\n",
    "monthly, quarterly or annually."
   ]
  },
  {
   "cell_type": "code",
   "execution_count": null,
   "id": "c6b96acd",
   "metadata": {},
   "outputs": [],
   "source": [
    "Question 3"
   ]
  },
  {
   "cell_type": "code",
   "execution_count": null,
   "id": "bc5d44b1",
   "metadata": {},
   "outputs": [],
   "source": [
    "Histogram shows total values of X wrt Y. Which means at any particular position of X, Y value shows the total number of counts\n",
    "or data below that value of X. numpy.histogram() is the built in function used."
   ]
  },
  {
   "cell_type": "code",
   "execution_count": null,
   "id": "a11b79e6",
   "metadata": {},
   "outputs": [],
   "source": [
    "Question 4"
   ]
  },
  {
   "cell_type": "code",
   "execution_count": null,
   "id": "2994e11d",
   "metadata": {},
   "outputs": [],
   "source": [
    "We can use figure(figsize=(10,8)) function inside the matplot.pyplot library which we scale down or up the graph."
   ]
  },
  {
   "cell_type": "code",
   "execution_count": null,
   "id": "f3a04228",
   "metadata": {},
   "outputs": [],
   "source": [
    "Question 5"
   ]
  },
  {
   "cell_type": "code",
   "execution_count": null,
   "id": "c89ec149",
   "metadata": {},
   "outputs": [],
   "source": [
    "In regular multiplication values of same index get multiplied.\n",
    "\n",
    "In dot product there is row wise multiplication, row of one array with column of second array and so on.\n",
    "\n",
    "In outer multiplication every element of first array a1 will be multiply by every element of other array a2 such such the\n",
    "number of columns will be equal to the number of element in another array a2."
   ]
  },
  {
   "cell_type": "code",
   "execution_count": null,
   "id": "6b57753f",
   "metadata": {},
   "outputs": [],
   "source": [
    "Question 6"
   ]
  },
  {
   "cell_type": "code",
   "execution_count": null,
   "id": "22ed2443",
   "metadata": {},
   "outputs": [],
   "source": [
    "np.pmt(rate, nper, pv) function we will be using in order to calculate monthly mortgage payment before you purchase a house.\n",
    "\n",
    "rate = The periodic interest rate\n",
    "nper = The number of payment periods\n",
    "pv = The total value of the mortgage loan"
   ]
  },
  {
   "cell_type": "code",
   "execution_count": null,
   "id": "65224968",
   "metadata": {},
   "outputs": [],
   "source": [
    "Question 7"
   ]
  },
  {
   "cell_type": "code",
   "execution_count": null,
   "id": "8c4fbdfa",
   "metadata": {},
   "outputs": [],
   "source": [
    "Yes, an array can store the string. The limitation which imposed on the string data is, whenever we store the data of string\n",
    "dtype then it should should keep in mind that the string which is having the maximum length is the limit."
   ]
  }
 ],
 "metadata": {
  "kernelspec": {
   "display_name": "Python 3 (ipykernel)",
   "language": "python",
   "name": "python3"
  },
  "language_info": {
   "codemirror_mode": {
    "name": "ipython",
    "version": 3
   },
   "file_extension": ".py",
   "mimetype": "text/x-python",
   "name": "python",
   "nbconvert_exporter": "python",
   "pygments_lexer": "ipython3",
   "version": "3.9.7"
  }
 },
 "nbformat": 4,
 "nbformat_minor": 5
}
